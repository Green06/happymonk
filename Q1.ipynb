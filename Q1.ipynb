{
 "cells": [
  {
   "cell_type": "markdown",
   "id": "d30f0ce2",
   "metadata": {},
   "source": [
    "**1. Consider a large dataset (say, a time series) A. Also, consider a smaller dataset B. How do you\n",
    "ensure whether sets A and B identify the same variable? Illustrate it with a Python script.**"
   ]
  },
  {
   "cell_type": "code",
   "execution_count": 2,
   "id": "f6e3a594",
   "metadata": {},
   "outputs": [],
   "source": [
    "import numpy as np"
   ]
  },
  {
   "cell_type": "code",
   "execution_count": 5,
   "id": "d59e99bf",
   "metadata": {},
   "outputs": [],
   "source": [
    "A = np.array([1, 2, 3, 4, 5])\n",
    "B = np.array([2, 3, 4, 5, 6])"
   ]
  },
  {
   "cell_type": "code",
   "execution_count": 6,
   "id": "b6335c5c",
   "metadata": {},
   "outputs": [],
   "source": [
    "mean_A = np.mean(A)\n",
    "mean_B = np.mean(B)\n",
    "std_A = np.std(A)\n",
    "std_B = np.std(B)\n",
    "corr_AB = np.corrcoef(A, B)[0, 1]"
   ]
  },
  {
   "cell_type": "code",
   "execution_count": 7,
   "id": "e3b7e1e4",
   "metadata": {},
   "outputs": [
    {
     "name": "stdout",
     "output_type": "stream",
     "text": [
      "Datasets A and B do not likely represent the same variable.\n"
     ]
    }
   ],
   "source": [
    "if (mean_A == mean_B) and (std_A == std_B) and (corr_AB == 1):\n",
    "    print(\"Datasets A and B likely represent the same variable.\")\n",
    "else:\n",
    "    print(\"Datasets A and B do not likely represent the same variable.\")"
   ]
  },
  {
   "cell_type": "code",
   "execution_count": null,
   "id": "38211ce3",
   "metadata": {},
   "outputs": [],
   "source": []
  },
  {
   "cell_type": "code",
   "execution_count": null,
   "id": "e5a35525",
   "metadata": {},
   "outputs": [],
   "source": []
  }
 ],
 "metadata": {
  "kernelspec": {
   "display_name": "Python 3 (ipykernel)",
   "language": "python",
   "name": "python3"
  },
  "language_info": {
   "codemirror_mode": {
    "name": "ipython",
    "version": 3
   },
   "file_extension": ".py",
   "mimetype": "text/x-python",
   "name": "python",
   "nbconvert_exporter": "python",
   "pygments_lexer": "ipython3",
   "version": "3.10.1"
  }
 },
 "nbformat": 4,
 "nbformat_minor": 5
}
